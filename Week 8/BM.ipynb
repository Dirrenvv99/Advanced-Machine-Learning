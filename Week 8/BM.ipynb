{
 "cells": [
  {
   "cell_type": "code",
   "execution_count": 1,
   "metadata": {},
   "outputs": [],
   "source": [
    "import numpy as np\n",
    "import matplotlib.pyplot as plt\n",
    "import argparse\n",
    "from itertools import product"
   ]
  },
  {
   "cell_type": "code",
   "execution_count": 2,
   "metadata": {},
   "outputs": [],
   "source": [
    "def E(data,w, theta):\n",
    "    #d: NrofSpins\n",
    "    #w.shape: (d,d)\n",
    "    #theta.shape: (d,)\n",
    "    #data: (N,d)\n",
    "    d = w.shape[0]\n",
    "    correlations = np.sum(np.multiply((data@((1-np.eye(d))*w)), data), axis = 1)/2\n",
    "    local_field = data@theta\n",
    "\n",
    "    return -(correlations + local_field)\n",
    "\n",
    "def E_indep(data, w, theta):\n",
    "    #d: NrofSpins\n",
    "    #w.shape: (d,d)\n",
    "    #theta.shape: (d,)\n",
    "    #data: (N,d)\n",
    "    local_field = data@theta\n",
    "\n",
    "    return -local_field\n",
    "\n",
    "def p_star(data,w,theta, Energy_functional = E):\n",
    "    return np.exp(-Energy_functional(data,w,theta))\n",
    "\n",
    "def p(data,w,theta,Z, Energy_functional = E):\n",
    "    return 1/Z * p_star(data,w,theta, Energy_functional)\n",
    "\n",
    "def partition(w, theta, all_states, Energy_functional = E):\n",
    "    return np.sum(p_star(all_states, w , theta, Energy_functional))\n",
    "\n",
    "def log_likelihood(w, theta, data, Z, Energy_functional = E):\n",
    "    return 1/len(data) * np.sum(np.log(p(data,w,theta, Z, Energy_functional)))"
   ]
  },
  {
   "cell_type": "code",
   "execution_count": 164,
   "metadata": {},
   "outputs": [],
   "source": [
    "def clamped_statistics(data):\n",
    "    single = np.mean(data, axis = 0)\n",
    "    double = np.einsum('ki,kj-> ij', data, data)/(len(data))\n",
    "\n",
    "    return single, double\n",
    "\n",
    "def free_statistics(w, theta, all_states, Z, Energy_functional = E):\n",
    "    all_probs = p(all_states, w, theta, Z, Energy_functional)\n",
    "    # single = np.sum(np.multiply(all_probs, all_states))\n",
    "    single = np.einsum('ki, k -> i', all_states, all_probs)\n",
    "    # if Energy_functional is E_indep:\n",
    "    #     double = np.zeros_like(w)\n",
    "    # else:\n",
    "    #     double = np.einsum('ki, kj, k -> ij', all_states, all_states, all_probs)\n",
    "    double = np.einsum('ki, kj, k -> ij', all_states, all_states, all_probs)\n",
    "    return single, double\n"
   ]
  },
  {
   "cell_type": "code",
   "execution_count": 37,
   "metadata": {},
   "outputs": [
    {
     "data": {
      "text/plain": [
       "(array([0.5, 0.5, 0.5]),\n",
       " array([[0.5 , 0.25, 0.25],\n",
       "        [0.25, 0.5 , 0.25],\n",
       "        [0.25, 0.25, 0.5 ]]))"
      ]
     },
     "execution_count": 37,
     "metadata": {},
     "output_type": "execute_result"
    }
   ],
   "source": [
    "w = np.array([[0,0,0],[0,0,0],[0,0,0]])\n",
    "theta = np.array([0,0,0])\n",
    "all_states = list(product([0,1], repeat = w.shape[0]))\n",
    "all_states = np.array([np.array(s) for s in all_states])\n",
    "free_statistics(w,theta, all_states)"
   ]
  },
  {
   "cell_type": "code",
   "execution_count": 4,
   "metadata": {},
   "outputs": [],
   "source": [
    "lr = 1e-3\n",
    "threshold = 1e-13\n",
    "N = 1000\n",
    "S = 10\n",
    "\n",
    "# generate the data \n",
    "np.random.seed(42)\n",
    "data_toy = np.array([np.random.randint(0, 2, size = S) for _ in range(N)])\n",
    "for point in data_toy:\n",
    "    point[point ==0] = -1\n",
    "all_states = list(product([-1,1], repeat = S))\n",
    "all_states = np.array([np.array(s) for s in all_states])"
   ]
  },
  {
   "cell_type": "code",
   "execution_count": 9,
   "metadata": {},
   "outputs": [],
   "source": [
    "\n",
    "def BM(data, lr , threshold, momentum = 0, print_iter = 500, Energy_functional = E, seed = None, MH_stats = False, samples = None):\n",
    "    #compute the clamped statistics\n",
    "    if seed:\n",
    "        np.random.seed(seed)\n",
    "    clamped_single, clamped_double = clamped_statistics(data)\n",
    "\n",
    "    #initialize w and theta (random/zeros)\n",
    "    S = data.shape[1]\n",
    "    w = np.zeros((S,S))\n",
    "    theta = np.zeros(S)\n",
    "\n",
    "    error = np.inf\n",
    "    gradient_old_single = np.zeros(theta.shape[0])\n",
    "    gradient_old_double = np.zeros(w.shape[0])\n",
    "\n",
    "    i=0\n",
    "    Z = partition(w,theta, all_states, Energy_functional)\n",
    "    likelihoods = [log_likelihood(w,theta,data, Z, Energy_functional)]\n",
    "    while error > threshold:\n",
    "        i += 1      \n",
    "        #compute the free statistics\n",
    "        Z = partition(w,theta, all_states, Energy_functional)\n",
    "        free_single, free_double = free_statistics(w,theta,all_states, Z, Energy_functional)\n",
    "\n",
    "        #calculating the new gradients\n",
    "        gradient_single = clamped_single - free_single\n",
    "        #setting the diagonal zero\n",
    "        gradient_double = (1-np.eye(w.shape[0]))*(clamped_double - free_double)\n",
    "\n",
    "        if np.allclose(gradient_single, gradient_old_single, rtol = 0, atol = 0):\n",
    "            print(\"ref mistake\")\n",
    "            break\n",
    "\n",
    "        #updating w and theta\n",
    "        theta_new = theta + lr * gradient_single + momentum * gradient_old_single\n",
    "        w_new = w + lr * gradient_double + momentum * gradient_old_double\n",
    "\n",
    "        #determine error\n",
    "        error_theta = np.mean(np.abs(theta_new - theta)) \n",
    "        error_w = np.mean(np.abs(w_new - w))\n",
    "        if Energy_functional is E_indep:\n",
    "            error_w = 0\n",
    "        error = max(error_theta, error_w)\n",
    "\n",
    "        theta = theta_new\n",
    "        w = w_new\n",
    "\n",
    "        gradient_old_single =  gradient_single\n",
    "        gradient_old_double =  gradient_double\n",
    "\n",
    "        likelihoods.append(log_likelihood(w,theta,data,Z, Energy_functional))\n",
    "\n",
    "        if i % print_iter == 0:\n",
    "            print(i)\n",
    "            print(error)\n",
    "            if Energy_functional is E_indep:\n",
    "                print(error_theta)\n",
    "                print(free_single)\n",
    "    # print(np.abs(clamped_double - free_double))\n",
    "    return w, theta, likelihoods"
   ]
  },
  {
   "cell_type": "code",
   "execution_count": 159,
   "metadata": {},
   "outputs": [
    {
     "name": "stdout",
     "output_type": "stream",
     "text": [
      "500\n",
      "1.9809741282852328e-06\n",
      "1000\n",
      "3.2574456551575247e-08\n",
      "1500\n",
      "5.884754084159102e-10\n",
      "2000\n",
      "1.0772966568296793e-11\n",
      "2500\n",
      "1.9792410332203357e-13\n"
     ]
    }
   ],
   "source": [
    "w, theta, likelihoods = BM(data_toy, lr, threshold, momentum = 0.01)"
   ]
  },
  {
   "cell_type": "code",
   "execution_count": 160,
   "metadata": {},
   "outputs": [
    {
     "data": {
      "image/png": "[encoded data removed]",
      "text/plain": [
       "<Figure size 432x288 with 1 Axes>"
      ]
     },
     "metadata": {
      "needs_background": "light"
     },
     "output_type": "display_data"
    }
   ],
   "source": [
    "plt.plot([x for x in range(len(likelihoods))], likelihoods)\n",
    "plt.xlabel(\"iterations\")\n",
    "plt.ylabel(\"likelihood\")\n",
    "plt.title(\"Log likelihood over iterations of exact BM for toy model\")\n",
    "plt.show()"
   ]
  },
  {
   "cell_type": "markdown",
   "metadata": {},
   "source": [
    "## Salamander data"
   ]
  },
  {
   "cell_type": "code",
   "execution_count": 109,
   "metadata": {},
   "outputs": [],
   "source": [
    "salamander = np.loadtxt('bint.txt')\n",
    "for point in salamander:\n",
    "    point[point == 0] = -1"
   ]
  },
  {
   "cell_type": "code",
   "execution_count": 112,
   "metadata": {},
   "outputs": [
    {
     "name": "stdout",
     "output_type": "stream",
     "text": [
      "(160, 953)\n"
     ]
    }
   ],
   "source": [
    "# salamander = np.loadtxt('bint.txt')\n",
    "# salamander = salamander.transpose()\n",
    "print(salamander[:,:953].shape)"
   ]
  },
  {
   "cell_type": "code",
   "execution_count": 115,
   "metadata": {},
   "outputs": [],
   "source": [
    "train_salamander = salamander[:,:953]\n",
    "part_indices = np.random.choice(range(160), size = 10, replace = False)\n",
    "train_salamander_part = train_salamander[part_indices]\n",
    "train_salamander_part = train_salamander_part.transpose()"
   ]
  },
  {
   "cell_type": "code",
   "execution_count": 116,
   "metadata": {},
   "outputs": [
    {
     "name": "stdout",
     "output_type": "stream",
     "text": [
      "(953, 10)\n"
     ]
    }
   ],
   "source": [
    "print(train_salamander_part.shape)"
   ]
  },
  {
   "cell_type": "code",
   "execution_count": 161,
   "metadata": {},
   "outputs": [
    {
     "name": "stdout",
     "output_type": "stream",
     "text": [
      "500\n",
      "9.474756062979872e-05\n",
      "1000\n",
      "5.552083797934204e-05\n",
      "1500\n",
      "4.612106694799611e-05\n",
      "2000\n",
      "4.0444745347265056e-05\n",
      "2500\n",
      "3.623800385209735e-05\n",
      "3000\n",
      "3.2937884053450826e-05\n",
      "3500\n",
      "3.0288554661132838e-05\n",
      "4000\n",
      "2.8128120593284845e-05\n",
      "4500\n",
      "2.634065624562698e-05\n",
      "5000\n",
      "2.4840712952223232e-05\n",
      "5500\n",
      "2.3564804723651132e-05\n",
      "6000\n",
      "2.246543796595238e-05\n",
      "6500\n",
      "2.1506780356198714e-05\n",
      "7000\n",
      "2.0661541902160935e-05\n",
      "7500\n",
      "1.9908737802747794e-05\n",
      "8000\n",
      "1.9232078742703606e-05\n",
      "8500\n",
      "1.8618804089752874e-05\n",
      "9000\n",
      "1.805882844755913e-05\n",
      "9500\n",
      "1.7544111580638894e-05\n",
      "10000\n",
      "1.7068189093701926e-05\n",
      "10500\n",
      "1.6625819949618203e-05\n",
      "11000\n",
      "1.621271970963364e-05\n",
      "11500\n",
      "1.582535721206691e-05\n",
      "12000\n",
      "1.5460798571122377e-05\n",
      "12500\n",
      "1.511658672375578e-05\n",
      "13000\n",
      "1.4790647857914826e-05\n",
      "13500\n",
      "1.4481218292425323e-05\n",
      "14000\n",
      "1.4186787004851626e-05\n",
      "14500\n",
      "1.3906050197892706e-05\n",
      "15000\n",
      "1.3637875176492759e-05\n",
      "15500\n",
      "1.3381271462024891e-05\n",
      "16000\n",
      "1.3135367560832001e-05\n",
      "16500\n",
      "1.2899392173100489e-05\n",
      "17000\n",
      "1.2672658904652052e-05\n",
      "17500\n",
      "1.2454553757513392e-05\n",
      "18000\n",
      "1.2244524835176504e-05\n",
      "18500\n",
      "1.2042073821930815e-05\n",
      "19000\n",
      "1.1846748890052827e-05\n",
      "19500\n",
      "1.1658138763442905e-05\n",
      "20000\n",
      "1.1475867720513524e-05\n",
      "20500\n",
      "1.1299591365884765e-05\n",
      "21000\n",
      "1.1128993033309148e-05\n",
      "21500\n",
      "1.0963780709920377e-05\n",
      "22000\n",
      "1.080368439276419e-05\n",
      "22500\n",
      "1.0648453806465578e-05\n",
      "23000\n",
      "1.0497856423031908e-05\n",
      "23500\n",
      "1.0351675736561954e-05\n",
      "24000\n",
      "1.0209709752544843e-05\n",
      "24500\n",
      "1.0071769661360031e-05\n"
     ]
    }
   ],
   "source": [
    "threshold_salamander = 1e-5\n",
    "lr_salamander = 1e-3\n",
    "mom_salamander = 0.01\n",
    "\n",
    "w, theta, likelihoods = BM(train_salamander_part, lr_salamander, threshold_salamander, momentum = mom_salamander)"
   ]
  },
  {
   "cell_type": "code",
   "execution_count": 123,
   "metadata": {},
   "outputs": [],
   "source": [
    "from collections import Counter\n",
    "\n",
    "Z_dep = partition(w, theta, all_states)\n",
    "\n",
    "#observed rate deter\n",
    "full_data = salamander[part_indices]\n",
    "full_data = full_data.transpose()\n",
    "\n",
    "full_data = full_data.tolist()\n",
    "new_data = map(tuple, full_data)\n",
    "new_data_set = [list(item) for item in set(tuple(row) for row in full_data)]\n",
    "\n",
    "observed_occ = Counter(new_data)\n",
    "\n",
    "observed_rate = []\n",
    "for i in new_data_set:\n",
    "    observed_rate.append(observed_occ[tuple(i)]/len(full_data))\n",
    "\n",
    "approximated_rate = p(new_data_set, w, theta, Z_dep)"
   ]
  },
  {
   "cell_type": "code",
   "execution_count": 125,
   "metadata": {},
   "outputs": [
    {
     "data": {
      "image/png": "[encoded data removed]",
      "text/plain": [
       "<Figure size 640x480 with 1 Axes>"
      ]
     },
     "metadata": {
      "needs_background": "light"
     },
     "output_type": "display_data"
    }
   ],
   "source": [
    "plt.figure(figsize = (8,6), dpi = 80)\n",
    "plt.scatter(observed_rate, approximated_rate, label = \"patterns\", color = \"red\")      \n",
    "plt.plot([x for x in np.linspace(0.000001,1, 10000)],[x for x in np.linspace(0.000001,1, 10000)], color = \"red\", label = \"y = x\")\n",
    "plt.xlabel(\"Observerd pattern rate\")\n",
    "plt.ylabel(\"Approximated by BM pattern rate\")\n",
    "plt.xscale('log')\n",
    "plt.legend()\n",
    "plt.yscale('log')\n",
    "plt.title(\"Recreation fig 2a\")\n",
    "\n",
    "\n",
    "# if platform == \"linux\" or platform == \"linux2\" or platform == \"darwin\":\n",
    "#     plt.savefig(\"./PLOTS/BM_EXACT_SALAMANDER_\" + str(threshold) + \"_full.png\")\n",
    "# elif platform == \"win32\":\n",
    "#     plt.savefig(\".\\\\PLOTS\\\\BM_EXACT_SALAMANDER_\" + str(threshold) + \"_full.png\")\n",
    "plt.show()"
   ]
  },
  {
   "cell_type": "markdown",
   "metadata": {},
   "source": [
    "#### Creating the indep model"
   ]
  },
  {
   "cell_type": "code",
   "execution_count": 177,
   "metadata": {},
   "outputs": [],
   "source": [
    "w_indep, theta_indep, liks_indep = BM(train_salamander_part, lr_salamander * 10 **(1), threshold_salamander * 10**(2), mom_salamander, Energy_functional= E_indep)"
   ]
  },
  {
   "cell_type": "markdown",
   "metadata": {},
   "source": [
    "Threshold verandering voor plotjes genereren."
   ]
  },
  {
   "cell_type": "code",
   "execution_count": 178,
   "metadata": {},
   "outputs": [
    {
     "data": {
      "image/png": "[encoded data removed]",
      "text/plain": [
       "<Figure size 640x480 with 1 Axes>"
      ]
     },
     "metadata": {
      "needs_background": "light"
     },
     "output_type": "display_data"
    }
   ],
   "source": [
    "Z_indep = partition(w_indep, theta_indep, all_states, Energy_functional= E_indep)\n",
    "\n",
    "approximated_rate_indep = p(new_data_set, w_indep, theta_indep, Z_indep, Energy_functional= E_indep)\n",
    "\n",
    "plt.figure(figsize = (8,6), dpi = 80)\n",
    "plt.scatter(observed_rate, approximated_rate, label = \"patterns\", color = \"red\")    \n",
    "plt.scatter(observed_rate, approximated_rate_indep, label = \"patterns_indep\", color = \"blue\") \n",
    "plt.plot([x for x in np.linspace(0.000001,1, 10000)],[x for x in np.linspace(0.000001,1, 10000)], color = \"red\", label = \"y = x\")\n",
    "plt.xlabel(\"Observerd pattern rate\")\n",
    "plt.ylabel(\"Approximated by BM pattern rate\")\n",
    "plt.xscale('log')\n",
    "plt.legend()\n",
    "plt.yscale('log')\n",
    "plt.title(\"Recreation fig 2a\")\n",
    "plt.show()\n"
   ]
  },
  {
   "cell_type": "markdown",
   "metadata": {},
   "source": [
    "## Metropolis Hastings Sampling"
   ]
  },
  {
   "cell_type": "code",
   "execution_count": 6,
   "metadata": {},
   "outputs": [],
   "source": [
    "def E_difference(pattern, site, w, theta):\n",
    "    return 2*pattern[site] * np.dot(w[site], pattern) + 2 * pattern[site] * theta[site]\n",
    "    "
   ]
  },
  {
   "cell_type": "code",
   "execution_count": 7,
   "metadata": {},
   "outputs": [],
   "source": [
    "def MH_sampler(w, theta, pattern, n_samples):    \n",
    "    \n",
    "    d = w.shape[0]\n",
    "    \n",
    "    # store the samples somewhere\n",
    "    samples = np.zeros((n_samples, d))\n",
    "    current_sample = pattern\n",
    "    \n",
    "    # get initial energy \n",
    "    energy = E(np.array([pattern]),w, theta)[0]\n",
    "    \n",
    "    # Precompute random numbers\n",
    "    random_log = np.log(np.random.rand(n_samples))\n",
    "    n_accept = 0\n",
    "    for i in range(n_samples-1):\n",
    "        de = E_difference(current_sample,i%d, w, theta)\n",
    "        samples[i] = current_sample\n",
    "        if de < 0 or -de > random_log[i]:\n",
    "            current_sample[0,i%d] *=-1\n",
    "            energy += de\n",
    "            n_accept +=1\n",
    "\n",
    "    \n",
    "    samples[-1] = current_sample\n",
    "\n",
    "    single = np.mean(samples, axis = 0)\n",
    "    double = np.einsum('ki, kj -> ij', samples, samples)/len(samples)\n",
    "\n",
    "    return single, double"
   ]
  },
  {
   "cell_type": "code",
   "execution_count": 8,
   "metadata": {},
   "outputs": [
    {
     "data": {
      "text/plain": [
       "array([[ 1., -1.,  0.],\n",
       "       [-1.,  1.,  0.],\n",
       "       [ 0.,  0.,  1.]])"
      ]
     },
     "execution_count": 8,
     "metadata": {},
     "output_type": "execute_result"
    }
   ],
   "source": []
  },
  {
   "cell_type": "code",
   "execution_count": null,
   "metadata": {},
   "outputs": [],
   "source": []
  }
 ],
 "metadata": {
  "interpreter": {
   "hash": "c97bff5eda4a92ad8316643e42b0af7f53ae3796e0116bba6744e467ba40b0d6"
  },
  "kernelspec": {
   "display_name": "Python 3.8.10 64-bit (windows store)",
   "language": "python",
   "name": "python3"
  },
  "language_info": {
   "codemirror_mode": {
    "name": "ipython",
    "version": 3
   },
   "file_extension": ".py",
   "mimetype": "text/x-python",
   "name": "python",
   "nbconvert_exporter": "python",
   "pygments_lexer": "ipython3",
   "version": "3.8.10"
  },
  "orig_nbformat": 4
 },
 "nbformat": 4,
 "nbformat_minor": 2
}
