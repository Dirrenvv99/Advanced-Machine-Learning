{
 "cells": [
  {
   "cell_type": "code",
   "execution_count": 1,
   "metadata": {},
   "outputs": [],
   "source": [
    "import numpy as np\n",
    "import matplotlib.pyplot as plt\n",
    "# import argparse\n",
    "from tqdm.notebook import tqdm\n",
    "from itertools import product\n",
    "from collections import Counter\n",
    "from tqdm import tqdm\n",
    "\n",
    "# parser = argparse.ArgumentParser(description='Toy model BM')\n",
    "# parser.add_argument('-N',type=int, default=1000, help='Size of the dataset')\n",
    "# parser.add_argument('-S',type=int, default=10, help=\"Amount of spins\")\n",
    "# args = parser.parse_args()\n",
    "\n",
    "\n",
    "def unnormalized_p(s, w,theta):\n",
    "    return np.exp(0.5*np.dot(s,np.dot(w,s)) + np.dot(theta, s))\n",
    "\n",
    "\n",
    "def p_s_w(s, w, theta, Z):\n",
    "    # for the exact model needs to be calculated exactly, thus including the normalization constant.\n",
    "    return 1/Z * unnormalized_p(s, w, theta)\n",
    "\n",
    "\n",
    "def likelihood(w,theta,data, Z):\n",
    "    nom = [unnormalized_p(s,w,theta) for s in data] \n",
    "    return np.mean(nom, axis=0) - np.log(Z)\n",
    "\n",
    "\n",
    "def clamped_statistics(data, batch_size=1000):\n",
    "    print(\"generate clamped statistics\")\n",
    "    single = 1/(len(data)) * np.sum(data, axis=0)\n",
    "\n",
    "    outer_sum = np.zeros((data.shape[1], data.shape[1]))\n",
    "    for i in tqdm(range(0, len(data), batch_size)):\n",
    "        outer_sum += np.sum([np.outer(x, x) for x in data[i:i+batch_size]], axis=0)\n",
    "    double = 1/(len(data)) * outer_sum\n",
    "\n",
    "    # Diagonals are set to zero. \n",
    "    # Since the diagonal of the w should be zero anyway.\n",
    "    np.fill_diagonal(double, 0.)\n",
    "    return single, double\n",
    "\n",
    "\n",
    "def direct_solve(data, eps, clamped_single, clamped_double):\n",
    "    C = clamped_double - np.outer(clamped_single, clamped_single)\n",
    "    C = C + np.eye(*C.shape)*eps\n",
    "    m = clamped_single\n",
    "\n",
    "    w = np.zeros_like(C)\n",
    "    np.fill_diagonal(w, 1/(1-m**2))\n",
    "    w = w - np.linalg.inv(C)\n",
    "    # return np.mean(w)\n",
    "\n",
    "    theta = np.arctanh(m) - np.dot(w, m)\n",
    "\n",
    "    Z = np.sum([unnormalized_p(s,w,theta) for s in data])\n",
    "    return np.exp(likelihood(w, theta, data, Z))"
   ]
  },
  {
   "cell_type": "code",
   "execution_count": 3,
   "metadata": {},
   "outputs": [
    {
     "name": "stdout",
     "output_type": "stream",
     "text": [
      "generate clamped statistics\n"
     ]
    },
    {
     "name": "stderr",
     "output_type": "stream",
     "text": [
      "100%|██████████| 284/284 [00:26<00:00, 10.76it/s]"
     ]
    },
    {
     "name": "stdout",
     "output_type": "stream",
     "text": [
      "data retreived\n"
     ]
    },
    {
     "name": "stderr",
     "output_type": "stream",
     "text": [
      "\n"
     ]
    }
   ],
   "source": [
    "data = np.loadtxt(\"bint.txt\")\n",
    "# data = data[np.random.choice(range(160), size=10, replace=False)]\n",
    "data = data.transpose()\n",
    "clamped_single, clamped_double = clamped_statistics(data)\n",
    "print(\"data retreived\")"
   ]
  },
  {
   "cell_type": "code",
   "execution_count": null,
   "metadata": {},
   "outputs": [
    {
     "name": "stdout",
     "output_type": "stream",
     "text": [
      "0.005: -8.073093989808688\n",
      "0.03: -0.07691432709417807\n",
      "0.05: -0.08442241843189631\n",
      "0.1: -0.032101779376977155\n",
      "1: 0.0009456065827273109\n"
     ]
    }
   ],
   "source": [
    "for x in [0.005, 0.03, 0.05,  0.1, :\n",
    "    print(f\"{x}: {direct_solve(data, x, clamped_single, clamped_double)}\" )"
   ]
  },
  {
   "cell_type": "code",
   "execution_count": 5,
   "metadata": {},
   "outputs": [
    {
     "name": "stderr",
     "output_type": "stream",
     "text": [
      "/var/folders/s9/fggsb3jn2kv14qg5vd8bn2km0000gn/T/ipykernel_7693/384257966.py:57: RuntimeWarning: overflow encountered in exp\n",
      "  return np.exp(likelihood(w, theta, data, Z))\n",
      "100%|██████████| 20/20 [04:59<00:00, 14.97s/it]\n"
     ]
    }
   ],
   "source": [
    "# seed to make sure it can be recreated\n",
    "# np.random.seed(42)\n",
    "# indices_10 = np.random.choice(range(160), size = args.N, replace = False)\n",
    "# data = data_before[indices_10]\n",
    "\n",
    "# Create toy model dataset\n",
    "# data = np.array([np.random.randint(0, 2, size=args.S) for _ in range(args.N)])\n",
    "epss = [x for x in np.linspace(0.03, 0.5, 20)]\n",
    "result = [direct_solve(data, eps, clamped_single, clamped_double) for eps in tqdm(epss)]"
   ]
  },
  {
   "cell_type": "code",
   "execution_count": 7,
   "metadata": {},
   "outputs": [
    {
     "data": {
      "image/png": "[encoded data removed]",
      "text/plain": [
       "<Figure size 432x288 with 1 Axes>"
      ]
     },
     "metadata": {
      "needs_background": "light"
     },
     "output_type": "display_data"
    }
   ],
   "source": [
    "plt.plot(epss, result)\n",
    "# plt.yscale('log')\n",
    "plt.show()"
   ]
  },
  {
   "cell_type": "code",
   "execution_count": null,
   "metadata": {},
   "outputs": [],
   "source": []
  }
 ],
 "metadata": {
  "interpreter": {
   "hash": "aee8b7b246df8f9039afb4144a1f6fd8d2ca17a180786b69acc140d282b71a49"
  },
  "kernelspec": {
   "display_name": "Python 3.9.1 64-bit",
   "language": "python",
   "name": "python3"
  },
  "language_info": {
   "codemirror_mode": {
    "name": "ipython",
    "version": 3
   },
   "file_extension": ".py",
   "mimetype": "text/x-python",
   "name": "python",
   "nbconvert_exporter": "python",
   "pygments_lexer": "ipython3",
   "version": "3.9.1"
  },
  "orig_nbformat": 4
 },
 "nbformat": 4,
 "nbformat_minor": 2
}
